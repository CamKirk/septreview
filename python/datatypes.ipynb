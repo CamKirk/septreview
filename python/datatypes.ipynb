{
 "metadata": {
  "language_info": {
   "codemirror_mode": {
    "name": "ipython",
    "version": 3
   },
   "file_extension": ".py",
   "mimetype": "text/x-python",
   "name": "python",
   "nbconvert_exporter": "python",
   "pygments_lexer": "ipython3",
   "version": "3.6.9-final"
  },
  "orig_nbformat": 2,
  "kernelspec": {
   "name": "python36964bitbaseconda0d17fd5a27e840038086345058d6e358",
   "display_name": "Python 3.6.9 64-bit ('base': conda)"
  }
 },
 "nbformat": 4,
 "nbformat_minor": 2,
 "cells": [
  {
   "cell_type": "code",
   "execution_count": 1,
   "metadata": {},
   "outputs": [],
   "source": [
    "# data types\n",
    "integer = 2\n",
    "float_variable = 8.201\n",
    "strings = \"banana\"\n",
    "multiline_string = \"\"\"\n",
    "    once upon a midnight dreary\n",
    "    while i pondered weak and weary \n",
    "    over a quaint and curious a volume of forgotten lore\n",
    "    \"\"\"\n",
    "boolean = True\n"
   ]
  },
  {
   "cell_type": "code",
   "execution_count": 2,
   "metadata": {},
   "outputs": [],
   "source": [
    "# data STRUCTURES (technically, lists/dicts are data types in python)\n",
    "fruits = [\"apple\",\"mango\",\"kiwi\"]\n",
    "herbs = (\"basil\", \"cilantro\", \"thyme\") #immutable\n",
    "my_dict = {\n",
    "    \"fruit\":\"apple\",\n",
    "    \"veggie\":\"bell pepper\",\n",
    "    \"starch\":\"bread\"\n",
    "}\n"
   ]
  },
  {
   "cell_type": "code",
   "execution_count": 3,
   "metadata": {},
   "outputs": [],
   "source": [
    "class Food():\n",
    "\n",
    "    def __init__(self,name,food_group, calories):\n",
    "        self.name = name\n",
    "        self.food_group = food_group\n",
    "        self.calories = calories\n",
    "\n",
    "    def eat(self):\n",
    "        self.calories = 0"
   ]
  },
  {
   "cell_type": "code",
   "execution_count": 8,
   "metadata": {},
   "outputs": [],
   "source": [
    "mango = Food(\"mango\",\"fruit\",200)"
   ]
  },
  {
   "cell_type": "code",
   "execution_count": 6,
   "metadata": {},
   "outputs": [
    {
     "output_type": "execute_result",
     "data": {
      "text/plain": [
       "200"
      ]
     },
     "metadata": {},
     "execution_count": 6
    }
   ],
   "source": [
    "mango.calories"
   ]
  },
  {
   "cell_type": "code",
   "execution_count": 7,
   "metadata": {},
   "outputs": [],
   "source": [
    "mango.eat()"
   ]
  },
  {
   "cell_type": "code",
   "execution_count": 8,
   "metadata": {},
   "outputs": [
    {
     "output_type": "execute_result",
     "data": {
      "text/plain": [
       "0"
      ]
     },
     "metadata": {},
     "execution_count": 8
    }
   ],
   "source": [
    "mango.calories"
   ]
  },
  {
   "cell_type": "code",
   "execution_count": 9,
   "metadata": {},
   "outputs": [
    {
     "output_type": "execute_result",
     "data": {
      "text/plain": [
       "__main__.Food"
      ]
     },
     "metadata": {},
     "execution_count": 9
    }
   ],
   "source": [
    "type(mango)"
   ]
  },
  {
   "cell_type": "code",
   "execution_count": 12,
   "metadata": {},
   "outputs": [],
   "source": [
    "fruits.append(\"kiwi\")"
   ]
  },
  {
   "cell_type": "code",
   "execution_count": 13,
   "metadata": {},
   "outputs": [
    {
     "output_type": "execute_result",
     "data": {
      "text/plain": [
       "['apple', 'mango', 'kiwi', 'kiwi']"
      ]
     },
     "metadata": {},
     "execution_count": 13
    }
   ],
   "source": [
    "fruits"
   ]
  },
  {
   "cell_type": "code",
   "execution_count": 7,
   "metadata": {},
   "outputs": [],
   "source": [
    "class limitedQueue(list):\n",
    "\n",
    "    def __init__(self, list_arg):\n",
    "        if len(list_arg) > 10:\n",
    "            list_arg = list_arg[:10]\n",
    "            \n",
    "        self.list_arg = list_arg\n",
    "\n",
    "    def add(self, new_item):\n",
    "\n",
    "        if len(self.list_arg < 10):\n",
    "            self.list_arg.append(new_item)\n",
    "        else:\n",
    "            self.list_arg.insert(0,new_item)\n",
    "            self.list_arg.pop()\n",
    "\n",
    "        return self.list_arg\n",
    "    "
   ]
  },
  {
   "cell_type": "code",
   "execution_count": 9,
   "metadata": {},
   "outputs": [],
   "source": [
    "fruit_queue = limitedQueue(fruits)"
   ]
  },
  {
   "cell_type": "code",
   "execution_count": 10,
   "metadata": {},
   "outputs": [
    {
     "output_type": "execute_result",
     "data": {
      "text/plain": [
       "['apple', 'mango', 'kiwi']"
      ]
     },
     "metadata": {},
     "execution_count": 10
    }
   ],
   "source": [
    "fruit_queue.list_arg"
   ]
  },
  {
   "cell_type": "code",
   "execution_count": 11,
   "metadata": {},
   "outputs": [
    {
     "output_type": "execute_result",
     "data": {
      "text/plain": [
       "['starfruit', 'apple', 'mango']"
      ]
     },
     "metadata": {},
     "execution_count": 11
    }
   ],
   "source": [
    "fruit_queue.add(\"starfruit\")"
   ]
  },
  {
   "cell_type": "code",
   "execution_count": 12,
   "metadata": {},
   "outputs": [
    {
     "output_type": "execute_result",
     "data": {
      "text/plain": [
       "['jackfruit', 'starfruit', 'apple']"
      ]
     },
     "metadata": {},
     "execution_count": 12
    }
   ],
   "source": [
    "fruit_queue.add(\"jackfruit\")"
   ]
  },
  {
   "cell_type": "code",
   "execution_count": null,
   "metadata": {},
   "outputs": [],
   "source": []
  }
 ]
}